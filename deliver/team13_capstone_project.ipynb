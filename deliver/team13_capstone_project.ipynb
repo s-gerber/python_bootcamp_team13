{
 "cells": [
  {
   "cell_type": "markdown",
   "metadata": {},
   "source": [
    "# Team13: Capstone project of Python Bootcamp\n",
    "\n",
    "## Purpose\n",
    "\n",
    "State the purpose of the notebook.\n",
    "\n",
    "## Methology\n",
    "\n",
    "Quickly describe assumptions and processing steps.\n",
    "\n",
    "## TODO / Improvements\n",
    "\n",
    "* [x] Find a dataset that has at least 2 CSV files\n",
    "* [ ] Come up with 5 questions that you want to answer while exploring the dataset\n",
    "* [ ] Perform EDA (Exploratoty Data Analysis) on your dataset with basic visualisations\n",
    "\n",
    "## Results\n",
    "\n",
    "## Setup"
   ]
  },
  {
   "cell_type": "code",
   "execution_count": 3,
   "metadata": {
    "scrolled": false
   },
   "outputs": [
    {
     "name": "stdout",
     "output_type": "stream",
     "text": [
      "Collecting package metadata (current_repodata.json): done\n",
      "Solving environment: done\n",
      "\n",
      "# All requested packages already installed.\n",
      "\n"
     ]
    }
   ],
   "source": [
    "# install system dependencies\n",
    "import os\n",
    "\n",
    "!conda install -c conda-forge --yes pandas jupyterthemes seaborn jupyter_contrib_nbextensions pandoc"
   ]
  },
  {
   "cell_type": "markdown",
   "metadata": {},
   "source": [
    "### Library Import"
   ]
  },
  {
   "cell_type": "code",
   "execution_count": 7,
   "metadata": {},
   "outputs": [],
   "source": [
    "# load libraries and setup environment\n",
    "import pandas as pd\n",
    "import numpy as np\n",
    "import matplotlib.pyplot as plt\n",
    "import seaborn as sns\n",
    "from jupyterthemes import jtplot\n",
    "jtplot.style(theme='monokai', context='notebook', ticks=True, grid=False)"
   ]
  },
  {
   "cell_type": "markdown",
   "metadata": {},
   "source": [
    "## Parameter definition\n",
    "\n",
    "We set all relevant parameters for our notebook. By convention, parameters are uppercase, while all the other variables follow Python's guidelines.\n",
    "\n",
    "## Data import\n",
    "We retrieve all the required data for the analysis.\n",
    "\n",
    "## Data processing\n",
    "Put here the core of the notebook. Feel free di further split this section into subsections.\n",
    "\n",
    "## References\n",
    "\n",
    "* [data for the cost of living](https://www.kaggle.com/andytran11996/cost-of-living/)\n",
    "* [base data for countries of the world](https://www.kaggle.com/fernandol/countries-of-the-world)\n",
    "* [data for life expectancy from the WHO](https://www.kaggle.com/kumarajarshi/life-expectancy-who)\n",
    "* [roshansharma_europe-datasets](https://www.kaggle.com/roshansharma/europe-datasets)"
   ]
  }
 ],
 "metadata": {
  "kernelspec": {
   "display_name": "Python 3",
   "language": "python",
   "name": "python3"
  },
  "language_info": {
   "codemirror_mode": {
    "name": "ipython",
    "version": 3
   },
   "file_extension": ".py",
   "mimetype": "text/x-python",
   "name": "python",
   "nbconvert_exporter": "python",
   "pygments_lexer": "ipython3",
   "version": "3.7.7"
  }
 },
 "nbformat": 4,
 "nbformat_minor": 4
}
